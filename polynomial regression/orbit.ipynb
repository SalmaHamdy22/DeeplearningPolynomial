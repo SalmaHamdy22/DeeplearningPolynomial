{
 "cells": [
  {
   "cell_type": "code",
   "execution_count": 230,
   "id": "237f4c8e",
   "metadata": {},
   "outputs": [],
   "source": [
    "import numpy as np\n",
    "import pandas as pd\n",
    "import tensorflow as tf\n",
    "import matplotlib.pyplot as plt\n",
    "from sklearn.preprocessing import MinMaxScaler\n",
    "from sklearn.model_selection import train_test_split\n",
    "from sklearn.metrics import mean_squared_error, mean_absolute_error, r2_score"
   ]
  },
  {
   "cell_type": "code",
   "execution_count": 231,
   "id": "f07a0422",
   "metadata": {},
   "outputs": [],
   "source": [
    "data=pd.read_csv(\"C:/Users/Salma/Downloads/orbit.csv\") #reading csv file"
   ]
  },
  {
   "cell_type": "code",
   "execution_count": 232,
   "id": "69256f28",
   "metadata": {},
   "outputs": [
    {
     "data": {
      "text/html": [
       "<div>\n",
       "<style scoped>\n",
       "    .dataframe tbody tr th:only-of-type {\n",
       "        vertical-align: middle;\n",
       "    }\n",
       "\n",
       "    .dataframe tbody tr th {\n",
       "        vertical-align: top;\n",
       "    }\n",
       "\n",
       "    .dataframe thead th {\n",
       "        text-align: right;\n",
       "    }\n",
       "</style>\n",
       "<table border=\"1\" class=\"dataframe\">\n",
       "  <thead>\n",
       "    <tr style=\"text-align: right;\">\n",
       "      <th></th>\n",
       "      <th>time_steps</th>\n",
       "      <th>y</th>\n",
       "    </tr>\n",
       "  </thead>\n",
       "  <tbody>\n",
       "    <tr>\n",
       "      <th>0</th>\n",
       "      <td>-10.000000</td>\n",
       "      <td>100.000000</td>\n",
       "    </tr>\n",
       "    <tr>\n",
       "      <th>1</th>\n",
       "      <td>-9.989995</td>\n",
       "      <td>99.800000</td>\n",
       "    </tr>\n",
       "    <tr>\n",
       "      <th>2</th>\n",
       "      <td>-9.979990</td>\n",
       "      <td>99.600200</td>\n",
       "    </tr>\n",
       "    <tr>\n",
       "      <th>3</th>\n",
       "      <td>-9.969985</td>\n",
       "      <td>99.400601</td>\n",
       "    </tr>\n",
       "    <tr>\n",
       "      <th>4</th>\n",
       "      <td>-9.959980</td>\n",
       "      <td>99.201201</td>\n",
       "    </tr>\n",
       "  </tbody>\n",
       "</table>\n",
       "</div>"
      ],
      "text/plain": [
       "   time_steps           y\n",
       "0  -10.000000  100.000000\n",
       "1   -9.989995   99.800000\n",
       "2   -9.979990   99.600200\n",
       "3   -9.969985   99.400601\n",
       "4   -9.959980   99.201201"
      ]
     },
     "execution_count": 232,
     "metadata": {},
     "output_type": "execute_result"
    }
   ],
   "source": [
    "data.head() "
   ]
  },
  {
   "cell_type": "code",
   "execution_count": 233,
   "id": "6f2d7dd5",
   "metadata": {},
   "outputs": [
    {
     "data": {
      "text/plain": [
       "time_steps    0\n",
       "y             0\n",
       "dtype: int64"
      ]
     },
     "execution_count": 233,
     "metadata": {},
     "output_type": "execute_result"
    }
   ],
   "source": [
    "data.isnull().sum() #checking if there are null values"
   ]
  },
  {
   "cell_type": "code",
   "execution_count": 234,
   "id": "8e8af202",
   "metadata": {},
   "outputs": [
    {
     "name": "stdout",
     "output_type": "stream",
     "text": [
      "Model: \"sequential_22\"\n",
      "_________________________________________________________________\n",
      " Layer (type)                Output Shape              Param #   \n",
      "=================================================================\n",
      " dense_129 (Dense)           (None, 1024)              2048      \n",
      "                                                                 \n",
      " dense_130 (Dense)           (None, 512)               524800    \n",
      "                                                                 \n",
      " dense_131 (Dense)           (None, 256)               131328    \n",
      "                                                                 \n",
      " dense_132 (Dense)           (None, 128)               32896     \n",
      "                                                                 \n",
      " dense_133 (Dense)           (None, 64)                8256      \n",
      "                                                                 \n",
      " dense_134 (Dense)           (None, 32)                2080      \n",
      "                                                                 \n",
      " dense_135 (Dense)           (None, 16)                528       \n",
      "                                                                 \n",
      " dense_136 (Dense)           (None, 1)                 17        \n",
      "                                                                 \n",
      "=================================================================\n",
      "Total params: 701953 (2.68 MB)\n",
      "Trainable params: 701953 (2.68 MB)\n",
      "Non-trainable params: 0 (0.00 Byte)\n",
      "_________________________________________________________________\n"
     ]
    }
   ],
   "source": [
    "from tensorflow.keras.models import Sequential\n",
    "from tensorflow.keras.layers import Dense\n",
    "model = Sequential()\n",
    "#structure of the neural network\n",
    "model.add(Dense(1024, input_shape=(1, ), activation='relu'))\n",
    "\n",
    "model.add(Dense(512, activation='relu'))\n",
    "model.add(Dense(256, activation='relu'))\n",
    "model.add(Dense(128, activation='relu'))\n",
    "model.add(Dense(64, activation='relu'))\n",
    "model.add(Dense(32, activation='relu'))\n",
    "model.add(Dense(16, activation='relu'))\n",
    "\n",
    "model.add(Dense(1))\n",
    "\n",
    "model.summary()"
   ]
  },
  {
   "cell_type": "code",
   "execution_count": 235,
   "id": "f0cb0d3e",
   "metadata": {},
   "outputs": [],
   "source": [
    "# Compile your model\n",
    "model.compile(optimizer='adam', loss='mse', metrics=['mae'])\n"
   ]
  },
  {
   "cell_type": "code",
   "execution_count": 236,
   "id": "6cccda82",
   "metadata": {},
   "outputs": [],
   "source": [
    "X = data['time_steps'].values.reshape(-1, 1)\n",
    "y = data['y'].values\n",
    "\n",
    "X_train, X_val, y_train, y_val = train_test_split(X, y, test_size=0.2, random_state=True)"
   ]
  },
  {
   "cell_type": "code",
   "execution_count": 237,
   "id": "11229248",
   "metadata": {},
   "outputs": [
    {
     "name": "stdout",
     "output_type": "stream",
     "text": [
      "Epoch 1/50\n",
      "50/50 [==============================] - 2s 11ms/step - loss: 574.7709 - mae: 16.1099 - val_loss: 129.7843 - val_mae: 10.1630\n",
      "Epoch 2/50\n",
      "50/50 [==============================] - 0s 8ms/step - loss: 110.9007 - mae: 9.0715 - val_loss: 83.8110 - val_mae: 7.8947\n",
      "Epoch 3/50\n",
      "50/50 [==============================] - 0s 8ms/step - loss: 67.0095 - mae: 6.6837 - val_loss: 44.2743 - val_mae: 5.0555\n",
      "Epoch 4/50\n",
      "50/50 [==============================] - 0s 8ms/step - loss: 26.7718 - mae: 3.9113 - val_loss: 9.5809 - val_mae: 2.1884\n",
      "Epoch 5/50\n",
      "50/50 [==============================] - 0s 8ms/step - loss: 4.3629 - mae: 1.2679 - val_loss: 3.9129 - val_mae: 1.1506\n",
      "Epoch 6/50\n",
      "50/50 [==============================] - 0s 8ms/step - loss: 2.1504 - mae: 0.9031 - val_loss: 0.8717 - val_mae: 0.5911\n",
      "Epoch 7/50\n",
      "50/50 [==============================] - 0s 8ms/step - loss: 0.7048 - mae: 0.4918 - val_loss: 0.2789 - val_mae: 0.2935\n",
      "Epoch 8/50\n",
      "50/50 [==============================] - 0s 8ms/step - loss: 0.3962 - mae: 0.3954 - val_loss: 0.1568 - val_mae: 0.2596\n",
      "Epoch 9/50\n",
      "50/50 [==============================] - 0s 8ms/step - loss: 0.2486 - mae: 0.3317 - val_loss: 0.2349 - val_mae: 0.3654\n",
      "Epoch 10/50\n",
      "50/50 [==============================] - 0s 8ms/step - loss: 0.2387 - mae: 0.3099 - val_loss: 0.2550 - val_mae: 0.3756\n",
      "Epoch 11/50\n",
      "50/50 [==============================] - 0s 8ms/step - loss: 0.1778 - mae: 0.2673 - val_loss: 0.0771 - val_mae: 0.1731\n",
      "Epoch 12/50\n",
      "50/50 [==============================] - 0s 9ms/step - loss: 0.2338 - mae: 0.3066 - val_loss: 1.2537 - val_mae: 0.7419\n",
      "Epoch 13/50\n",
      "50/50 [==============================] - 0s 8ms/step - loss: 0.6089 - mae: 0.4742 - val_loss: 0.2155 - val_mae: 0.3052\n",
      "Epoch 14/50\n",
      "50/50 [==============================] - 0s 8ms/step - loss: 0.4515 - mae: 0.4259 - val_loss: 0.1333 - val_mae: 0.2216\n",
      "Epoch 15/50\n",
      "50/50 [==============================] - 0s 8ms/step - loss: 0.1087 - mae: 0.2183 - val_loss: 0.0418 - val_mae: 0.1278\n",
      "Epoch 16/50\n",
      "50/50 [==============================] - 0s 8ms/step - loss: 0.0561 - mae: 0.1590 - val_loss: 0.1822 - val_mae: 0.2781\n",
      "Epoch 17/50\n",
      "50/50 [==============================] - 0s 8ms/step - loss: 1.0100 - mae: 0.6043 - val_loss: 1.7018 - val_mae: 0.7890\n",
      "Epoch 18/50\n",
      "50/50 [==============================] - 0s 8ms/step - loss: 0.7422 - mae: 0.5317 - val_loss: 0.1285 - val_mae: 0.2787\n",
      "Epoch 19/50\n",
      "50/50 [==============================] - 0s 8ms/step - loss: 0.1029 - mae: 0.2014 - val_loss: 0.0389 - val_mae: 0.1267\n",
      "Epoch 20/50\n",
      "50/50 [==============================] - 0s 8ms/step - loss: 0.0720 - mae: 0.1678 - val_loss: 0.1290 - val_mae: 0.2486\n",
      "Epoch 21/50\n",
      "50/50 [==============================] - 0s 9ms/step - loss: 0.0449 - mae: 0.1413 - val_loss: 0.0321 - val_mae: 0.1034\n",
      "Epoch 22/50\n",
      "50/50 [==============================] - 0s 8ms/step - loss: 0.1151 - mae: 0.2124 - val_loss: 0.0315 - val_mae: 0.1388\n",
      "Epoch 23/50\n",
      "50/50 [==============================] - 0s 8ms/step - loss: 0.2577 - mae: 0.3201 - val_loss: 0.0822 - val_mae: 0.2148\n",
      "Epoch 24/50\n",
      "50/50 [==============================] - 0s 9ms/step - loss: 0.3124 - mae: 0.3373 - val_loss: 0.0701 - val_mae: 0.1933\n",
      "Epoch 25/50\n",
      "50/50 [==============================] - 0s 9ms/step - loss: 0.2157 - mae: 0.2880 - val_loss: 0.5843 - val_mae: 0.5219\n",
      "Epoch 26/50\n",
      "50/50 [==============================] - 0s 8ms/step - loss: 0.8508 - mae: 0.5438 - val_loss: 4.0756 - val_mae: 1.3339\n",
      "Epoch 27/50\n",
      "50/50 [==============================] - 0s 8ms/step - loss: 6.0460 - mae: 1.5453 - val_loss: 9.8775 - val_mae: 2.0158\n",
      "Epoch 28/50\n",
      "50/50 [==============================] - 0s 9ms/step - loss: 4.1804 - mae: 1.3090 - val_loss: 0.9258 - val_mae: 0.6732\n",
      "Epoch 29/50\n",
      "50/50 [==============================] - 0s 8ms/step - loss: 1.5929 - mae: 0.7495 - val_loss: 0.9436 - val_mae: 0.6393\n",
      "Epoch 30/50\n",
      "50/50 [==============================] - 0s 8ms/step - loss: 0.3121 - mae: 0.3227 - val_loss: 0.3972 - val_mae: 0.4108\n",
      "Epoch 31/50\n",
      "50/50 [==============================] - 0s 8ms/step - loss: 0.1215 - mae: 0.1978 - val_loss: 0.1052 - val_mae: 0.2013\n",
      "Epoch 32/50\n",
      "50/50 [==============================] - 0s 8ms/step - loss: 0.0966 - mae: 0.1821 - val_loss: 0.0669 - val_mae: 0.1306\n",
      "Epoch 33/50\n",
      "50/50 [==============================] - 0s 8ms/step - loss: 0.0614 - mae: 0.1500 - val_loss: 0.0236 - val_mae: 0.0957\n",
      "Epoch 34/50\n",
      "50/50 [==============================] - 0s 8ms/step - loss: 0.0428 - mae: 0.1219 - val_loss: 0.0526 - val_mae: 0.1542\n",
      "Epoch 35/50\n",
      "50/50 [==============================] - 0s 8ms/step - loss: 0.0313 - mae: 0.1060 - val_loss: 0.0305 - val_mae: 0.1112\n",
      "Epoch 36/50\n",
      "50/50 [==============================] - 0s 8ms/step - loss: 0.0297 - mae: 0.1088 - val_loss: 0.0913 - val_mae: 0.1792\n",
      "Epoch 37/50\n",
      "50/50 [==============================] - 0s 8ms/step - loss: 0.3423 - mae: 0.3458 - val_loss: 0.1367 - val_mae: 0.2433\n",
      "Epoch 38/50\n",
      "50/50 [==============================] - 0s 8ms/step - loss: 0.0469 - mae: 0.1339 - val_loss: 0.0245 - val_mae: 0.1101\n",
      "Epoch 39/50\n",
      "50/50 [==============================] - 0s 8ms/step - loss: 0.0456 - mae: 0.1321 - val_loss: 0.0264 - val_mae: 0.1081\n",
      "Epoch 40/50\n",
      "50/50 [==============================] - 0s 8ms/step - loss: 0.1554 - mae: 0.2311 - val_loss: 0.0118 - val_mae: 0.0767\n",
      "Epoch 41/50\n",
      "50/50 [==============================] - 0s 8ms/step - loss: 0.1054 - mae: 0.1992 - val_loss: 0.7933 - val_mae: 0.5030\n",
      "Epoch 42/50\n",
      "50/50 [==============================] - 0s 8ms/step - loss: 0.1868 - mae: 0.2850 - val_loss: 0.1822 - val_mae: 0.3234\n",
      "Epoch 43/50\n",
      "50/50 [==============================] - 0s 8ms/step - loss: 0.1092 - mae: 0.1985 - val_loss: 0.1109 - val_mae: 0.2393\n",
      "Epoch 44/50\n",
      "50/50 [==============================] - 0s 8ms/step - loss: 0.0339 - mae: 0.1170 - val_loss: 0.0242 - val_mae: 0.1044\n",
      "Epoch 45/50\n",
      "50/50 [==============================] - 0s 8ms/step - loss: 0.0909 - mae: 0.1720 - val_loss: 0.4788 - val_mae: 0.3547\n",
      "Epoch 46/50\n",
      "50/50 [==============================] - 0s 8ms/step - loss: 1.6206 - mae: 0.7782 - val_loss: 1.4609 - val_mae: 0.7165\n",
      "Epoch 47/50\n",
      "50/50 [==============================] - 0s 8ms/step - loss: 0.2659 - mae: 0.2930 - val_loss: 0.2840 - val_mae: 0.3536\n",
      "Epoch 48/50\n",
      "50/50 [==============================] - 0s 8ms/step - loss: 0.1210 - mae: 0.2119 - val_loss: 0.0565 - val_mae: 0.1355\n",
      "Epoch 49/50\n",
      "50/50 [==============================] - 0s 8ms/step - loss: 0.0878 - mae: 0.1793 - val_loss: 0.0114 - val_mae: 0.0655\n",
      "Epoch 50/50\n",
      "50/50 [==============================] - 0s 8ms/step - loss: 0.0256 - mae: 0.0948 - val_loss: 0.0491 - val_mae: 0.1491\n",
      "Training started..., this can take a while:\n"
     ]
    }
   ],
   "source": [
    "model.fit(X_train, y_train, epochs=50, validation_data=(X_val, y_val))\n",
    "\n",
    "\n",
    "print('Training started..., this can take a while:')"
   ]
  },
  {
   "cell_type": "code",
   "execution_count": 238,
   "id": "ae3dcc5e",
   "metadata": {},
   "outputs": [
    {
     "name": "stdout",
     "output_type": "stream",
     "text": [
      "7/7 [==============================] - 0s 3ms/step\n"
     ]
    },
    {
     "data": {
      "image/png": "[encoded data removed]",
      "text/plain": [
       "<Figure size 640x480 with 1 Axes>"
      ]
     },
     "metadata": {},
     "output_type": "display_data"
    }
   ],
   "source": [
    "def plot_orbit(model_preds):\n",
    "    axeslim = int(len(model_preds) / 2)\n",
    "    plt.plot(np.arange(-axeslim, axeslim + 1),np.arange(-axeslim, axeslim + 1) ** 2,\n",
    "             color=\"mediumslateblue\")\n",
    "    plt.plot(np.arange(-axeslim, axeslim + 1),model_preds,color=\"orange\")\n",
    "    plt.axis([-40, 41, -5, 550])\n",
    "    plt.legend([\"Scientist's Orbit\", 'Your orbit'],loc=\"lower left\")\n",
    "    plt.title(\"Predicted orbit vs Scientist's Orbit\")\n",
    "    plt.savefig(\"predicted_orbit.png\", format='png')\n",
    "# Predict the eighty minute orbit\n",
    "eighty_min_orbit = model.predict(np.arange(-100, 101))\n",
    "\n",
    "# Plot the eighty minute orbit\n",
    "plot_orbit(eighty_min_orbit)"
   ]
  },
  {
   "cell_type": "code",
   "execution_count": 239,
   "id": "b9bced49",
   "metadata": {},
   "outputs": [
    {
     "name": "stdout",
     "output_type": "stream",
     "text": [
      "13/13 [==============================] - 0s 3ms/step\n",
      "MSE: 0.049093451916075184\n",
      "MAE: 0.14910284519626069\n",
      "R2 Score: 0.9999441435128134\n"
     ]
    }
   ],
   "source": [
    "y_pred = model.predict(X_val)\n",
    "mse = mean_squared_error(y_val, y_pred)\n",
    "mae = mean_absolute_error(y_val, y_pred)\n",
    "r2 = r2_score(y_val, y_pred)\n",
    "\n",
    "print(f\"MSE: {mse}\")\n",
    "print(f\"MAE: {mae}\")\n",
    "print(f\"R2 Score: {r2}\")"
   ]
  }
 ],
 "metadata": {
  "kernelspec": {
   "display_name": "Python 3 (ipykernel)",
   "language": "python",
   "name": "python3"
  },
  "language_info": {
   "codemirror_mode": {
    "name": "ipython",
    "version": 3
   },
   "file_extension": ".py",
   "mimetype": "text/x-python",
   "name": "python",
   "nbconvert_exporter": "python",
   "pygments_lexer": "ipython3",
   "version": "3.11.4"
  }
 },
 "nbformat": 4,
 "nbformat_minor": 5
}
